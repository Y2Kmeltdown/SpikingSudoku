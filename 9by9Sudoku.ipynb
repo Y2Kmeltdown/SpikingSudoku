{
 "cells": [
  {
   "cell_type": "markdown",
   "id": "6ffcd2f1",
   "metadata": {},
   "source": [
    "Load Sudoku Database"
   ]
  },
  {
   "cell_type": "code",
   "execution_count": 1,
   "id": "26a886da",
   "metadata": {},
   "outputs": [],
   "source": [
    "import numpy as np\n",
    "\n",
    "quizzes = np.zeros((1000000, 81), np.int32)\n",
    "solutions = np.zeros((1000000, 81), np.int32)\n",
    "for i, line in enumerate(open('sudoku.csv', 'r').read().splitlines()[1:]):\n",
    "    quiz, solution = line.split(\",\")\n",
    "    for j, q_s in enumerate(zip(quiz, solution)):\n",
    "        q, s = q_s\n",
    "        quizzes[i, j] = q\n",
    "        solutions[i, j] = s\n",
    "quizzes = quizzes.reshape((-1, 9, 9))\n",
    "solutions = solutions.reshape((-1, 9, 9))"
   ]
  },
  {
   "cell_type": "markdown",
   "id": "a9b4757b",
   "metadata": {},
   "source": [
    "Initial Parameters"
   ]
  },
  {
   "cell_type": "code",
   "execution_count": 2,
   "id": "55663852",
   "metadata": {},
   "outputs": [],
   "source": [
    "refractory_period = 1.0\n",
    "excitatory_tau = 5.0\n",
    "inhibitory_tau = 6.0\n",
    "inhibitory_weight = 5.0\n",
    "\n",
    "excitatory_rate = 500.0\n",
    "input_rate = 2000.0\n",
    "excitatory_weight = 5.0\n",
    "\n",
    "simulation_duration = 5000\n",
    "scaleFactor = 5\n",
    "\n",
    "gridSize = 9\n",
    "gridRange = np.arange(gridSize)\n",
    "sudokuSpikeData = np.zeros([gridSize**3])\n",
    "sudokuSpikeTest = np.zeros([gridSize,gridSize])\n",
    "liveViolations = []"
   ]
  },
  {
   "cell_type": "markdown",
   "id": "3a6a5015",
   "metadata": {},
   "source": [
    "Map Sudoku grid to 1D array values which represent neurons."
   ]
  },
  {
   "cell_type": "code",
   "execution_count": 3,
   "id": "9df259a2-d3d3-464f-90db-4d4e63a101bc",
   "metadata": {},
   "outputs": [],
   "source": [
    "neuronMap = np.arange(gridSize**3).reshape(gridSize, gridSize, gridSize)\n",
    "def neuron_index(column: int, row: int, layer: int) -> int:\n",
    "    return neuronMap[layer, row, column]"
   ]
  },
  {
   "cell_type": "markdown",
   "id": "486a4a76",
   "metadata": {},
   "source": [
    "Map Sudoku Grid by blocks to 1D array values which represent neurons"
   ]
  },
  {
   "cell_type": "code",
   "execution_count": 4,
   "id": "26111868-dbc0-4ba2-97d3-8072bd238395",
   "metadata": {},
   "outputs": [],
   "source": [
    "blockGrid = int(np.sqrt(gridSize))\n",
    "blockMap = np.arange(gridSize).reshape(blockGrid,blockGrid)\n",
    "def neuron_index_block(cell: int, block: int, layer: int) -> int:\n",
    "    targetLayer = neuronMap[layer,:,:]\n",
    "    blockcoords = np.where(blockMap==block)\n",
    "    \n",
    "    blockSplit1 = np.split(targetLayer,blockGrid,axis=0)[int(blockcoords[0])]\n",
    "    \n",
    "    blockSplit2 = np.split(blockSplit1,blockGrid,axis=1)[int(blockcoords[1])]\n",
    "\n",
    "    return blockSplit2.flatten()[cell]"
   ]
  },
  {
   "cell_type": "markdown",
   "id": "8c990255",
   "metadata": {},
   "source": [
    "Grid Validation and printing"
   ]
  },
  {
   "cell_type": "code",
   "execution_count": 5,
   "id": "b1d81abd",
   "metadata": {},
   "outputs": [],
   "source": [
    "def grid_to_string(grid: np.ndarray):\n",
    "    top = \"┌───┬───┬───┬───┬───┬───┬───┬───┬───┐\\n\"\n",
    "    value = \"│ {} │ {} │ {} │ {} │ {} │ {} │ {} │ {} │ {} │\\n\"\n",
    "    divider = \"├───┼───┼───┼───┼───┼───┼───┼───┼───┤\\n\"\n",
    "    bottom = \"└───┴───┴───┴───┴───┴───┴───┴───┴───┘\"\n",
    "    printGrid = top + (value + divider)*8 + value + bottom\n",
    "    return printGrid.format(\n",
    "        *[\" \" if value == 0 else str(int(value)) for value in grid.flatten()]\n",
    "    )\n",
    "\n",
    "def grid_constraint_violations(grid: np.ndarray):\n",
    "    expected = {1, 2, 3, 4, 5, 6, 7, 8, 9}\n",
    "    result = 0\n",
    "    for column in gridRange:\n",
    "        if set(grid[:, column]) != expected:\n",
    "            result += 1\n",
    "    for row in gridRange:\n",
    "        if set(grid[row, :]) != expected:\n",
    "            result += 1\n",
    "    for block in gridRange:\n",
    "        blockcoords = np.where(blockMap==block)\n",
    "        blockSplit1 = np.split(grid,blockGrid,axis=0)[int(blockcoords[0])]\n",
    "        blockSplit2 = np.split(blockSplit1,blockGrid,axis=1)[int(blockcoords[1])]\n",
    "        if set(blockSplit2.flatten()) != expected:\n",
    "            result += 1\n",
    "    return result"
   ]
  },
  {
   "cell_type": "markdown",
   "id": "a2e0afee",
   "metadata": {},
   "source": [
    "Choose a random sudoku"
   ]
  },
  {
   "cell_type": "code",
   "execution_count": 6,
   "id": "da5356bb",
   "metadata": {},
   "outputs": [
    {
     "name": "stdout",
     "output_type": "stream",
     "text": [
      "┌───┬───┬───┬───┬───┬───┬───┬───┬───┐\n",
      "│ 8 │ 5 │ 4 │ 3 │ 1 │ 7 │ 2 │ 6 │ 9 │\n",
      "├───┼───┼───┼───┼───┼───┼───┼───┼───┤\n",
      "│ 3 │ 6 │ 7 │ 2 │ 9 │ 8 │ 4 │ 5 │ 1 │\n",
      "├───┼───┼───┼───┼───┼───┼───┼───┼───┤\n",
      "│ 1 │ 9 │ 2 │ 4 │ 6 │ 5 │ 8 │ 7 │ 3 │\n",
      "├───┼───┼───┼───┼───┼───┼───┼───┼───┤\n",
      "│ 4 │ 7 │ 9 │ 6 │ 5 │ 3 │ 1 │ 2 │ 8 │\n",
      "├───┼───┼───┼───┼───┼───┼───┼───┼───┤\n",
      "│ 5 │ 2 │ 1 │ 8 │ 4 │ 9 │ 7 │ 3 │ 6 │\n",
      "├───┼───┼───┼───┼───┼───┼───┼───┼───┤\n",
      "│ 6 │ 8 │ 3 │ 1 │ 7 │ 2 │ 9 │ 4 │ 5 │\n",
      "├───┼───┼───┼───┼───┼───┼───┼───┼───┤\n",
      "│ 7 │ 3 │ 5 │ 9 │ 2 │ 1 │ 6 │ 8 │ 4 │\n",
      "├───┼───┼───┼───┼───┼───┼───┼───┼───┤\n",
      "│ 9 │ 4 │ 8 │ 7 │ 3 │ 6 │ 5 │ 1 │ 2 │\n",
      "├───┼───┼───┼───┼───┼───┼───┼───┼───┤\n",
      "│ 2 │ 1 │ 6 │ 5 │ 8 │ 4 │ 3 │ 9 │ 7 │\n",
      "└───┴───┴───┴───┴───┴───┴───┴───┴───┘ 0\n",
      "┌───┬───┬───┬───┬───┬───┬───┬───┬───┐\n",
      "│   │   │   │   │ 1 │   │   │ 6 │ 9 │\n",
      "├───┼───┼───┼───┼───┼───┼───┼───┼───┤\n",
      "│ 3 │   │ 7 │ 2 │   │   │   │ 5 │   │\n",
      "├───┼───┼───┼───┼───┼───┼───┼───┼───┤\n",
      "│ 1 │   │ 2 │ 4 │ 6 │ 5 │   │ 7 │   │\n",
      "├───┼───┼───┼───┼───┼───┼───┼───┼───┤\n",
      "│   │ 7 │   │ 6 │   │   │   │ 2 │ 8 │\n",
      "├───┼───┼───┼───┼───┼───┼───┼───┼───┤\n",
      "│ 5 │   │ 1 │   │ 4 │ 9 │ 7 │   │   │\n",
      "├───┼───┼───┼───┼───┼───┼───┼───┼───┤\n",
      "│   │ 8 │ 3 │   │   │   │   │   │   │\n",
      "├───┼───┼───┼───┼───┼───┼───┼───┼───┤\n",
      "│   │ 3 │   │ 9 │ 2 │   │   │   │ 4 │\n",
      "├───┼───┼───┼───┼───┼───┼───┼───┼───┤\n",
      "│ 9 │   │ 8 │   │ 3 │ 6 │ 5 │ 1 │   │\n",
      "├───┼───┼───┼───┼───┼───┼───┼───┼───┤\n",
      "│   │   │   │   │   │   │   │   │   │\n",
      "└───┴───┴───┴───┴───┴───┴───┴───┴───┘ 27\n"
     ]
    }
   ],
   "source": [
    "selection = np.random.randint(0,999999)\n",
    "quiz = quizzes[selection,:,:]\n",
    "solution = solutions[selection,:,:]\n",
    "\n",
    "print(grid_to_string(solution), grid_constraint_violations(solution))\n",
    "\n",
    "print(grid_to_string(quiz), grid_constraint_violations(quiz))"
   ]
  },
  {
   "cell_type": "markdown",
   "id": "f52e88ea",
   "metadata": {},
   "source": [
    "Generate input population and connection list"
   ]
  },
  {
   "cell_type": "code",
   "execution_count": 7,
   "id": "3e7c727b",
   "metadata": {},
   "outputs": [],
   "source": [
    "inputSize = np.count_nonzero(quiz)\n",
    "inputNeurons = np.arange(inputSize)\n",
    "\n",
    "inputConnections = []\n",
    "ind = 0\n",
    "for row in gridRange:\n",
    "    for column in gridRange:\n",
    "        if quiz[row,column] != 0:\n",
    "            inputConnections.append(\n",
    "                        (\n",
    "                        inputNeurons[ind],\n",
    "                        neuron_index(row, column, quiz[row,column]-1)\n",
    "                        )\n",
    "                    )\n",
    "            ind += 1"
   ]
  },
  {
   "cell_type": "code",
   "execution_count": 8,
   "id": "a62158f1",
   "metadata": {},
   "outputs": [],
   "source": [
    "assert inputSize == len(inputConnections)"
   ]
  },
  {
   "cell_type": "markdown",
   "id": "02cd6f54",
   "metadata": {},
   "source": [
    "Create a list of inhibitory connections that will be used by the network"
   ]
  },
  {
   "cell_type": "code",
   "execution_count": 9,
   "id": "5149ca3d-60b5-4584-91a6-57d3086b16bc",
   "metadata": {},
   "outputs": [],
   "source": [
    "gridRange = np.arange(gridSize)\n",
    "connections = []\n",
    "#\n",
    "for layer in gridRange:\n",
    "    for row in gridRange:\n",
    "        for column1 in gridRange:\n",
    "            for column2 in gridRange:\n",
    "                if column1 != column2:\n",
    "                    connections.append(\n",
    "                        (\n",
    "                        neuron_index(column1, row, layer),\n",
    "                        neuron_index(column2, row, layer)\n",
    "                        )\n",
    "                    )\n",
    "                    \n",
    "for layer in gridRange:\n",
    "    for column in gridRange:\n",
    "        for row1 in gridRange:\n",
    "            for row2 in gridRange:\n",
    "                if row1 != row2:\n",
    "                    connections.append(\n",
    "                        (\n",
    "                        neuron_index(column, row1, layer),\n",
    "                        neuron_index(column, row2, layer)\n",
    "                        )\n",
    "                    )\n",
    "                    \n",
    "                 \n",
    "for row in gridRange:\n",
    "    for column in gridRange:\n",
    "        for layer1 in gridRange:\n",
    "            for layer2 in gridRange:\n",
    "                if layer1 != layer2:\n",
    "                    connections.append(\n",
    "                        (\n",
    "                        neuron_index(column, row, layer1),\n",
    "                        neuron_index(column, row, layer2)\n",
    "                        )\n",
    "                    )   \n",
    "\n",
    "for layer in gridRange:\n",
    "    for block in gridRange:\n",
    "        for cell1 in gridRange:\n",
    "            cell1x = int(np.where(blockMap==cell1)[0])\n",
    "            cell1y = int(np.where(blockMap==cell1)[1])\n",
    "            for cell2 in gridRange:\n",
    "                cell2x = int(np.where(blockMap==cell2)[0])\n",
    "                cell2y = int(np.where(blockMap==cell2)[1])\n",
    "                if cell1x != cell2x and cell1y != cell2y:\n",
    "                    connections.append(\n",
    "                        (\n",
    "                        neuron_index_block(cell1, block, layer),\n",
    "                        neuron_index_block(cell2, block, layer)\n",
    "                        )\n",
    "                    )            "
   ]
  },
  {
   "cell_type": "markdown",
   "id": "54cfd591",
   "metadata": {},
   "source": [
    "Check list contains no duplicates"
   ]
  },
  {
   "cell_type": "code",
   "execution_count": 10,
   "id": "a6cabec2-59cb-4338-aeb3-54e953649884",
   "metadata": {},
   "outputs": [],
   "source": [
    "assert len(connections) == len(set(connections))"
   ]
  },
  {
   "cell_type": "markdown",
   "id": "78d95c9d",
   "metadata": {},
   "source": [
    "Start neural network simulation initialisation."
   ]
  },
  {
   "cell_type": "code",
   "execution_count": 11,
   "id": "94ccb2af-8a42-43ab-88dc-ea7d68d70a4a",
   "metadata": {},
   "outputs": [
    {
     "name": "stderr",
     "output_type": "stream",
     "text": [
      "2022-11-06 02:22:20 INFO: Read cfg files: c:\\Users\\damie\\miniconda3\\envs\\spinnaker\\lib\\site-packages\\spinn_front_end_common\\interface\\spinnaker.cfg, c:\\Users\\damie\\miniconda3\\envs\\spinnaker\\lib\\site-packages\\spynnaker\\pyNN\\spynnaker.cfg, C:\\Users\\damie\\.spynnaker.cfg\n",
      "2022-11-06 02:22:20 INFO: Will search these locations for binaries: c:\\Users\\damie\\miniconda3\\envs\\spinnaker\\lib\\site-packages\\spinn_front_end_common\\common_model_binaries : c:\\Users\\damie\\miniconda3\\envs\\spinnaker\\lib\\site-packages\\spynnaker\\pyNN\\model_binaries\n",
      "2022-11-06 02:22:20 INFO: Setting time scale factor to 5.\n",
      "2022-11-06 02:22:20 INFO: Setting machine time step to 1000 micro-seconds.\n"
     ]
    },
    {
     "name": "stdout",
     "output_type": "stream",
     "text": [
      "['c:\\\\Users\\\\damie\\\\miniconda3\\\\envs\\\\spinnaker\\\\lib\\\\site-packages\\\\spinn_front_end_common\\\\interface\\\\spinnaker.cfg', 'c:\\\\Users\\\\damie\\\\miniconda3\\\\envs\\\\spinnaker\\\\lib\\\\site-packages\\\\spynnaker\\\\pyNN\\\\spynnaker.cfg', 'C:\\\\Users\\\\damie\\\\.spynnaker.cfg']\n"
     ]
    }
   ],
   "source": [
    "import pyNN.spiNNaker as sim\n",
    "\n",
    "sim.setup(timestep = 1.0, time_scale_factor=scaleFactor)\n",
    "sim.set_number_of_neurons_per_core(sim.IF_curr_exp, 100)"
   ]
  },
  {
   "cell_type": "markdown",
   "id": "3db2274f",
   "metadata": {},
   "source": [
    "Set up sudoku population which will represent the sudoku board."
   ]
  },
  {
   "cell_type": "code",
   "execution_count": 12,
   "id": "4c9e36be",
   "metadata": {},
   "outputs": [],
   "source": [
    "sudokuPop = sim.Population(\n",
    "    gridSize**3, \n",
    "    sim.IF_curr_exp(\n",
    "        tau_syn_E = excitatory_tau,\n",
    "        tau_syn_I = inhibitory_tau,\n",
    "        tau_refrac = refractory_period\n",
    "        ),\n",
    "    label=\"sudPop\"\n",
    ")\n",
    "\n",
    "sudokuPop.record([\"spikes\", \"v\"])"
   ]
  },
  {
   "cell_type": "markdown",
   "id": "0767a3cd",
   "metadata": {},
   "source": [
    "Set up inhibitory connections using list created earlier."
   ]
  },
  {
   "cell_type": "code",
   "execution_count": 13,
   "id": "4c47fccd-e7d5-41af-b322-6bca03ad678a",
   "metadata": {},
   "outputs": [],
   "source": [
    "inhibitory_projection = sim.Projection(\n",
    "    sudokuPop,\n",
    "    sudokuPop,\n",
    "    sim.FromListConnector([(source, target, inhibitory_weight) for source, target in connections], column_names=[\"weight\"]),\n",
    "    synapse_type=sim.StaticSynapse(),\n",
    "    receptor_type=\"inhibitory\",\n",
    ")"
   ]
  },
  {
   "cell_type": "markdown",
   "id": "29f6a26d",
   "metadata": {},
   "source": [
    "Set up targeted inputs to favour existing values as an input."
   ]
  },
  {
   "cell_type": "code",
   "execution_count": 14,
   "id": "99d9aec5",
   "metadata": {},
   "outputs": [],
   "source": [
    "inputPop = sim.Population(\n",
    "    inputSize, \n",
    "    sim.SpikeSourcePoisson(rate = input_rate), \n",
    "    label=\"inputPop\"\n",
    ")"
   ]
  },
  {
   "cell_type": "markdown",
   "id": "96e9e2ad",
   "metadata": {},
   "source": [
    "Setup excitatory connections between targeted input and sudoku population to feed targeted noise to drive a specific solution."
   ]
  },
  {
   "cell_type": "code",
   "execution_count": 15,
   "id": "9544af43",
   "metadata": {},
   "outputs": [],
   "source": [
    "input_proj = sim.Projection(\n",
    "    inputPop, \n",
    "    sudokuPop, \n",
    "    sim.FromListConnector([(source, target, excitatory_weight) for source, target in inputConnections], column_names=[\"weight\"]),\n",
    "    synapse_type=sim.StaticSynapse()\n",
    ")"
   ]
  },
  {
   "cell_type": "markdown",
   "id": "49e3630e",
   "metadata": {},
   "source": [
    "Set up a random spike input source to drive computation."
   ]
  },
  {
   "cell_type": "code",
   "execution_count": 16,
   "id": "6bdebddd-833b-48a7-a28b-2bbb44235bcd",
   "metadata": {},
   "outputs": [],
   "source": [
    "excitationPop = sim.Population(\n",
    "    gridSize**3, \n",
    "    sim.SpikeSourcePoisson(rate = excitatory_rate), \n",
    "    label=\"excitationPop\"\n",
    ")"
   ]
  },
  {
   "cell_type": "markdown",
   "id": "38d70e78",
   "metadata": {},
   "source": [
    "Setup excitatory connections between spike input and sudoku population to feed poisson noise to drive excitation."
   ]
  },
  {
   "cell_type": "code",
   "execution_count": 17,
   "id": "b7ec8956-bc0a-4bb8-8d97-158ac964a63b",
   "metadata": {},
   "outputs": [],
   "source": [
    "excitation_proj = sim.Projection(\n",
    "    excitationPop, \n",
    "    sudokuPop, \n",
    "    sim.OneToOneConnector(),\n",
    "    synapse_type=sim.StaticSynapse(weight=excitatory_weight, delay=1)\n",
    ")"
   ]
  },
  {
   "cell_type": "markdown",
   "id": "9afae2e6",
   "metadata": {},
   "source": [
    "Start simulation."
   ]
  },
  {
   "cell_type": "code",
   "execution_count": 18,
   "id": "39f0cb88-5b5d-4282-83c4-b7813f8f4d47",
   "metadata": {},
   "outputs": [
    {
     "name": "stderr",
     "output_type": "stream",
     "text": [
      "2022-11-06 02:22:20 INFO: Starting execution process\n",
      "2022-11-06 02:22:20 INFO: Simulating for 5000 1.0ms timesteps using a hardware timestep of 5000us\n",
      "2022-11-06 02:22:20 INFO: Creating transceiver for 192.168.240.253\n",
      "2022-11-06 02:22:20 INFO: Working out if machine is booted\n",
      "2022-11-06 02:22:20 INFO: Found board with version [Version: SC&MP 3.4.1 at SpiNNaker:0:0:0 (built Fri Feb 12 01:36:44 2021)]\n",
      "2022-11-06 02:22:20 INFO: Machine communication successful\n",
      "2022-11-06 02:22:20 INFO: Detected a machine on IP address 192.168.240.253 which has 72 cores and 8.0 links\n",
      "2022-11-06 02:22:20 INFO: Time 0:00:00.019728 taken by MachineGenerator\n",
      "Preallocating resources for Extra Monitor support vertices\n",
      "|0%                          50%                         100%|\n",
      " ============================================================\n",
      "2022-11-06 02:22:20 INFO: Time 0:00:00.005892 taken by PreAllocateResourcesForExtraMonitorSupport\n",
      "2022-11-06 02:22:20 INFO: Time 0:00:00.000907 taken by NetworkSpecificationReport\n",
      "Allocating virtual identifiers\n",
      "|0%                          50%                         100%|\n",
      " ============================================================\n",
      "2022-11-06 02:22:20 INFO: Time 0:00:00.009219 taken by MallocBasedChipIDAllocator\n",
      "Writing the board chip report\n",
      "|0%                          50%                         100%|\n",
      " ============================================================\n",
      "2022-11-06 02:22:20 INFO: Time 0:00:00.004201 taken by BoardChipReport\n",
      "Adding Splitter selectors where appropriate\n",
      "|0%                          50%                         100%|\n",
      " ============================================================\n",
      "2022-11-06 02:22:20 INFO: Time 0:00:00.005580 taken by SpynnakerSplitterSelector\n",
      "Adding delay extensions as required\n",
      "|0%                          50%                         100%|\n",
      " ============================================================\n",
      "2022-11-06 02:22:20 INFO: Time 0:00:00.004541 taken by DelaySupportAdder\n",
      "Partitioning graph vertices\n",
      "|0%                          50%                         100%|\n",
      " ============================================================\n",
      "Partitioning graph edges\n",
      "|0%                          50%                         100%|\n",
      " ============================================================\n",
      "2022-11-06 02:22:20 INFO: Time 0:00:00.036106 taken by SpYNNakerSplitterPartitioner\n",
      "Inserting extra monitors into graphs\n",
      "|0%                          50%                         100%|\n",
      " ============================================================\n",
      "2022-11-06 02:22:20 INFO: Time 0:00:00.006925 taken by InsertExtraMonitorVerticesToGraphs\n",
      "Generating partitioner report\n",
      "|0%                          50%                         100%|\n",
      " ============================================================\n",
      "2022-11-06 02:22:20 INFO: Time 0:00:00.008300 taken by PartitionerReport\n",
      "Getting number of keys required by each edge using application graph\n",
      "|0%                          50%                         100%|\n",
      " ============================================================\n",
      "2022-11-06 02:22:20 INFO: Time 0:00:00.014926 taken by EdgeToNKeysMapper\n",
      "2022-11-06 02:22:20 INFO: The time scale factor could be reduced to 2.5\n",
      "2022-11-06 02:22:20 INFO: Time 0:00:00.001557 taken by LocalTDMABuilder\n",
      "Placing graph vertices via spreading over an entire machine\n",
      "|0%                          50%                         100%|\n",
      " ============================================================\n",
      "2022-11-06 02:22:20 INFO: Time 0:00:00.009576 taken by SpreaderPlacer\n",
      "Inserting edges between vertices which require FR speed up functionality.\n",
      "|0%                          50%                         100%|\n",
      " ========================================2022-11-06 02:22:21 INFO: Time 0:00:00.012216 taken by InsertEdgesToExtraMonitorFunctionality\n",
      "Generating routing tables for data in system processes\n",
      "|0%                          50%                         100%|\n",
      " ============================================================\n",
      "2022-11-06 02:22:21 INFO: Time 0:00:00.003770 taken by SystemMulticastRoutingGenerator\n",
      "Generating fixed router routes\n",
      "|0%                          50%                         100%|\n",
      " ============================================================\n",
      "2022-11-06 02:22:21 INFO: Time 0:00:00.003279 taken by FixedRouteRouter\n",
      "Generating placement report\n",
      "|0%                          50%                         100%|\n",
      " ============================================================\n",
      "Generating placement by core report\n",
      "|0%                          50%                         100%|\n",
      " ============================================================\n",
      "2022-11-06 02:22:21 INFO: Time 0:00:00.016286 taken by PlacerReportWithApplicationGraph\n",
      "Routing\n",
      "|0%                          50%                         100%|\n",
      " ============================================================\n",
      "\n",
      "2022-11-06 02:22:21 INFO: Time 0:00:00.019525 taken by NerRouteTrafficAware\n",
      "Discovering tags\n",
      "|0%                          50%                         100%|\n",
      " ============================================================\n",
      "Allocating tags\n",
      "|0%                          50%                         100%|\n",
      " ============================================================\n",
      "2022-11-06 02:22:21 INFO: Time 0:00:00.018892 taken by BasicTagAllocator\n",
      "Reporting Tags\n",
      "|0%                          50%                         100%|\n",
      " ============================================================\n",
      "2022-11-06 02:22:21 INFO: Time 0:00:00.004343 taken by TagReport\n",
      "Getting constraints for machine graph\n",
      "|0%                          50%                         100%|\n",
      " ============================================================\n",
      "2022-11-06 02:22:21 INFO: Time 0:00:00.018369 taken by ProcessPartitionConstraints\n",
      "Calculating zones\n",
      "|0%                          50%                         100%|\n",
      " ============================================================\n",
      "Allocating routing keys\n",
      "|0%                          50%                         100%|\n",
      " ============================================================\n",
      "2022-11-06 02:22:21 INFO: Time 0:00:00.009927 taken by ZonedRoutingInfoAllocator\n",
      "Generating Routing info report\n",
      "|0%                          50%                         100%|\n",
      " ============================================================\n",
      "2022-11-06 02:22:21 INFO: Time 0:00:00.011702 taken by routingInfoReports\n",
      "Generating routing tables\n",
      "|0%                          50%                         100%|\n",
      " ============================================================\n",
      "2022-11-06 02:22:21 INFO: Time 0:00:00.005480 taken by BasicRoutingTableGenerator\n",
      "2022-11-06 02:22:21 INFO: Time 0:00:00.000963 taken by RouterCollisionPotentialReport\n",
      "Finding executable start types\n",
      "|0%                          50%                         100%|\n",
      " ============================================================\n",
      "2022-11-06 02:22:21 INFO: Time 0:00:00.013913 taken by LocateExecutableStartType\n",
      "Initialising buffers\n",
      "|0%                          50%                         100%|\n",
      " ============================================================\n",
      "2022-11-06 02:22:21 INFO: Time 0:00:00.074538 taken by BufferManagerCreator\n",
      "Allocating SDRAM for SDRAM outgoing egde partitions\n",
      "|0%                          50%                         100%|\n",
      " ============================================================\n",
      "2022-11-06 02:22:21 INFO: Time 0:00:00.017308 taken by SDRAMOutgoingPartitionAllocator\n",
      "Generating data specifications\n",
      "|0%                          50%                         100%|\n",
      " ==================c:\\Users\\damie\\miniconda3\\envs\\spinnaker\\lib\\site-packages\\spynnaker\\pyNN\\models\\neural_projections\\connectors\\from_list_connector.py:155: VisibleDeprecationWarning: Creating an ndarray from ragged nested sequences (which is a list-or-tuple of lists-or-tuples-or ndarrays with different lengths or shapes) is deprecated. If you meant to do this, you must specify 'dtype=object' when creating the ndarray.\n",
      "  split_indices = numpy.array(numpy.split(\n",
      "==========================================\n",
      "2022-11-06 02:22:21 INFO: Time 0:00:00.581291 taken by SpynnakerDataSpecificationWriter\n",
      "Preparing Routing Tables\n",
      "|0%                          50%                         100%|\n",
      " ============================================================\n",
      "2022-11-06 02:22:21 INFO: Time 0:00:00.048006 taken by RoutingSetup\n",
      "Finding binaries\n",
      "|0%                          50%                         100%|\n",
      " ============================================================\n",
      "2022-11-06 02:22:21 INFO: Time 0:00:00.017928 taken by GraphBinaryGatherer\n",
      "Running pair routing table compression on chip\n",
      "|0%                          50%                         100%|\n",
      " ============================================================\n",
      "\n",
      "2022-11-06 02:22:25 INFO: Time 0:00:03.842663 taken by PairOnChipRouterCompression\n",
      "Generating Router table report\n",
      "|0%                          50%                         100%|\n",
      " ============================================================\n",
      "2022-11-06 02:22:25 INFO: Time 0:00:00.019089 taken by unCompressedRoutingTableReports\n",
      "loading fixed routes\n",
      "|0%                          50%                         100%|\n",
      " ============================================================\n",
      "2022-11-06 02:22:25 INFO: Time 0:00:00.011128 taken by LoadFixedRoutes\n",
      "Executing data specifications and loading data for system vertices\n",
      "|0%                          50%                         100%|\n",
      " ============================================================\n",
      "2022-11-06 02:22:25 INFO: Time 0:00:00.069680 taken by HostExecuteSystemDataSpecification\n",
      "Loading system executables onto the machine\n",
      "|0%                          50%                         100%|\n",
      " ============================================================\n",
      "2022-11-06 02:22:32 INFO: Time 0:00:06.407473 taken by LoadSystemExecutableImages\n",
      "2022-11-06 02:22:32 INFO: Time 0:00:00.005510 taken by TagsFromMachineReport\n",
      "Clearing tags\n",
      "|0%                          50%                         100%|\n",
      " ============================================================\n",
      "Loading Tags\n",
      "|0%                          50%                         100%|\n",
      " ============================================================\n",
      "2022-11-06 02:22:32 INFO: Time 0:00:00.029951 taken by TagsLoader\n",
      "Executing data specifications and loading data for application vertices\n",
      "|0%                          50%                         100%|\n",
      " ============================================================\n",
      "2022-11-06 02:23:06 INFO: Time 0:00:33.633844 taken by HostExecuteApplicationDataSpecification\n",
      "Preparing to Expand Synapses\n",
      "|0%                          50%                         100%|\n",
      " ============================================================\n",
      "Expanding Synapses\n",
      "|0%                          50%                         100%|\n",
      " ============================================================\n",
      "\n",
      "\n",
      "2022-11-06 02:23:10 INFO: Time 0:00:04.414750 taken by SynapseExpander\n",
      "Running bitfield generation on chip\n",
      "|0%                          50%                         100%|\n",
      " ============================================================\n",
      "\n",
      "\n",
      "2022-11-06 02:23:14 INFO: Time 0:00:03.664270 taken by OnChipBitFieldGenerator\n",
      "Finalising Retrieved Connections\n",
      "|0%                          50%                         100%|\n",
      " ============================================================\n",
      "2022-11-06 02:23:14 INFO: Time 0:00:00.008690 taken by FinishConnectionHolders\n",
      "Reading Routing Tables from Machine\n",
      "|0%                          50%                         100%|\n",
      " ============================================================\n",
      "2022-11-06 02:23:15 INFO: Time 0:00:01.095265 taken by ReadRoutingTablesFromMachine\n",
      "Generating compressed router table report\n",
      "|0%                          50%                         100%|\n",
      " ============================================================\n",
      "2022-11-06 02:23:15 INFO: Time 0:00:00.010213 taken by compressedRoutingTableReports\n",
      "Generating comparison of router table report\n",
      "|0%                          50%                         100%|\n",
      " ============================================================\n",
      "2022-11-06 02:23:15 INFO: Time 0:00:00.006060 taken by comparisonOfRoutingTablesReport\n",
      "Generating Routing summary report\n",
      "|0%                          50%                         100%|\n",
      " ============================================================\n",
      "2022-11-06 02:23:15 INFO: Time 0:00:00.006946 taken by CompressedRouterSummaryReport\n",
      "Reading Routing Tables from Machine\n",
      "|0%                          50%                         100%|\n",
      " ============================================================\n",
      "2022-11-06 02:23:15 INFO: Time 0:00:00.009669 taken by RoutingTableFromMachineReport\n",
      "Writing fixed route report\n",
      "|0%                          50%                         100%|\n",
      " ============================================================\n",
      "2022-11-06 02:23:15 INFO: Time 0:00:00.012842 taken by FixedRouteFromMachineReport\n",
      "Loading executables onto the machine\n",
      "|0%                          50%                         100%|\n",
      " ============================================================\n",
      "2022-11-06 02:23:23 INFO: Time 0:00:08.113761 taken by LoadApplicationExecutableImages\n",
      "2022-11-06 02:23:23 INFO: Running for 1 steps for a total of 5000.0ms\n",
      "2022-11-06 02:23:23 INFO: Run 1 of 1\n",
      "Generating SDRAM usage report\n",
      "|0%                          50%                         100%|\n",
      " ============================================================\n",
      "2022-11-06 02:23:23 INFO: Time 0:00:00.036632 taken by SdramUsageReportPerChip\n",
      "2022-11-06 02:23:23 INFO: Time 0:00:00.084442 taken by DatabaseInterface\n",
      "2022-11-06 02:23:23 INFO: Time 0:00:00.000777 taken by CreateNotificationProtocol\n",
      "Getting provenance data from machine graph\n",
      "|0%                          50%                         100%|\n",
      " 2022-11-06 02:23:23 INFO: ** Notifying external sources that the database is ready for reading **\n",
      "============================================================\n",
      "Getting provenance data from application graph\n",
      "|0%                          50%                         100%|\n",
      " ============================================================\n",
      "2022-11-06 02:23:23 INFO: Time 0:00:00.043900 taken by GraphProvenanceGatherer\n",
      "Waiting for cores to be either in PAUSED or READY state\n",
      "|0%                          50%                         100%|\n",
      " ============================================================\n",
      "Updating run time\n",
      "|0%                          50%                         100%|\n",
      " ============================================================\n",
      "2022-11-06 02:23:23 INFO: Time 0:00:00.039292 taken by ChipRuntimeUpdater\n",
      "2022-11-06 02:23:23 INFO: *** Running simulation... *** \n",
      "Loading buffers\n",
      "|0%                          50%                         100%|\n",
      " ============================================================\n",
      "2022-11-06 02:23:23 INFO: ** Awaiting for a response from an external source to state its ready for the simulation to start **\n",
      "2022-11-06 02:23:23 INFO: ** Sending start / resume message to external sources to state the simulation has started or resumed. **\n",
      "2022-11-06 02:23:23 INFO: ** Awaiting for a response from an external source to state its ready for the simulation to start **\n",
      "2022-11-06 02:23:23 INFO: Application started; waiting 25.1s for it to stop\n",
      "2022-11-06 02:23:48 INFO: ** Sending pause / stop message to external sources to state the simulation has been paused or stopped. **\n",
      "2022-11-06 02:23:48 INFO: Time 0:00:25.204281 taken by ApplicationRunner\n",
      "Extracting IOBUF from the machine\n",
      "|0%                          50%                         100%|\n",
      " ============================================================\n",
      "2022-11-06 02:23:48 INFO: Time 0:00:00.054965 taken by ChipIOBufExtractor\n",
      "clearing IOBUF from the machine\n",
      "|0%                          50%                         100%|\n",
      " ============================================================\n",
      "2022-11-06 02:23:48 INFO: Time 0:00:00.014444 taken by ChipIOBufClearer\n",
      "Extracting buffers from the last run\n",
      "|0%                          50%                         100%|\n",
      " ============================================================\n",
      "2022-11-06 02:23:51 INFO: Time 0:00:02.986157 taken by BufferExtractor\n",
      "2022-11-06 02:23:51 INFO: Time 0:00:00.000086 taken by FinaliseTimingData\n",
      "Getting provenance data\n",
      "|0%                          50%                         100%|\n",
      " ============================================================\n",
      "2022-11-06 02:23:51 INFO: Time 0:00:00.072342 taken by PlacementsProvenanceGatherer\n",
      "2022-11-06 02:23:51 INFO: Time 0:00:00.001477 taken by RedundantPacketCountReport\n",
      "Getting Router Provenance\n",
      "|0%                          50%                         100%|\n",
      " ============================================================\n",
      "2022-11-06 02:23:51 INFO: Time 0:00:00.019875 taken by RouterProvenanceGatherer\n",
      "Getting profile data\n",
      "|0%                          50%                         100%|\n",
      " ============================================================\n",
      "2022-11-06 02:23:52 INFO: Time 0:00:00.074640 taken by ProfileDataGatherer\n",
      "Getting spikes for sudPop\n",
      "|0%                          50%                         100%|\n",
      " ============================================================\n",
      "Getting v for sudPop\n",
      "|0%                          50%                         100%|\n",
      " ============================================================\n",
      "2022-11-06 02:23:52 WARNING: The weights from the synapses for sudPop:0:99 on 1, 1, 2 saturated 383 times. If this causes issues you can increase the spikes_per_second and / or ring_buffer_sigma values located within the .spynnaker.cfg file.\n",
      "2022-11-06 02:23:52 WARNING: The weights from the synapses for sudPop:100:199 on 1, 0, 2 saturated 749 times. If this causes issues you can increase the spikes_per_second and / or ring_buffer_sigma values located within the .spynnaker.cfg file.\n",
      "2022-11-06 02:23:52 WARNING: The weights from the synapses for sudPop:200:299 on 0, 1, 2 saturated 277 times. If this causes issues you can increase the spikes_per_second and / or ring_buffer_sigma values located within the .spynnaker.cfg file.\n",
      "2022-11-06 02:23:52 WARNING: The weights from the synapses for sudPop:300:399 on 0, 0, 3 saturated 479 times. If this causes issues you can increase the spikes_per_second and / or ring_buffer_sigma values located within the .spynnaker.cfg file.\n",
      "2022-11-06 02:23:52 WARNING: The weights from the synapses for sudPop:400:499 on 0, 0, 4 saturated 540 times. If this causes issues you can increase the spikes_per_second and / or ring_buffer_sigma values located within the .spynnaker.cfg file.\n",
      "2022-11-06 02:23:52 WARNING: The weights from the synapses for sudPop:500:599 on 0, 1, 3 saturated 483 times. If this causes issues you can increase the spikes_per_second and / or ring_buffer_sigma values located within the .spynnaker.cfg file.\n",
      "2022-11-06 02:23:52 WARNING: The weights from the synapses for sudPop:600:699 on 1, 0, 3 saturated 411 times. If this causes issues you can increase the spikes_per_second and / or ring_buffer_sigma values located within the .spynnaker.cfg file.\n",
      "2022-11-06 02:23:52 WARNING: The weights from the synapses for sudPop:700:728 on 1, 1, 3 saturated 117 times. If this causes issues you can increase the spikes_per_second and / or ring_buffer_sigma values located within the .spynnaker.cfg file.\n"
     ]
    }
   ],
   "source": [
    "simtime = simulation_duration\n",
    "sim.run(simtime)\n",
    "neo = sudokuPop.get_data(variables=[\"spikes\", \"v\"])\n",
    "spikes = neo.segments[0].spiketrains\n",
    "v = neo.segments[0].filter(name='v')[0]\n",
    "sim.end()"
   ]
  },
  {
   "cell_type": "markdown",
   "id": "ad49b1a2",
   "metadata": {},
   "source": [
    "Count number of spikes for a given neuron in a given time frame."
   ]
  },
  {
   "cell_type": "code",
   "execution_count": 19,
   "id": "6abcc1d2",
   "metadata": {},
   "outputs": [],
   "source": [
    "def count(column: int, row: int, layer: int, t0: int, t1: int):\n",
    "    temp = spikes[int(neuronMap[layer,row,column])]\n",
    "    temp = temp[temp>=t0]\n",
    "    temp = temp[temp<t1]\n",
    "    return np.shape(temp)[0]"
   ]
  },
  {
   "cell_type": "markdown",
   "id": "85f3ec34",
   "metadata": {},
   "source": [
    "Compare spike activity across layers and return layer with the most spike activity for a given time frame."
   ]
  },
  {
   "cell_type": "code",
   "execution_count": 20,
   "id": "cd6d5a11",
   "metadata": {},
   "outputs": [],
   "source": [
    "def most_active(column: int, row: int, t0: int, t1: int):\n",
    "    layers = np.arange(np.shape(neuronMap)[0])\n",
    "    maxLayer = np.argmax([count(column, row, layer, t0, t1) for layer in layers])\n",
    "    return maxLayer"
   ]
  },
  {
   "cell_type": "markdown",
   "id": "0db97b5a",
   "metadata": {},
   "source": [
    "Get sudoku board and violations over the course of the simulation."
   ]
  },
  {
   "cell_type": "code",
   "execution_count": 21,
   "id": "c3099b3a",
   "metadata": {},
   "outputs": [],
   "source": [
    "window = 50\n",
    "violations = []\n",
    "timeFrame = np.arange(0,simulation_duration, window)\n",
    "for t in timeFrame:\n",
    "    sudokuData = np.zeros([gridSize,gridSize])\n",
    "    #sudokuActivity = np.zeros([gridSize,gridSize])\n",
    "    for row in np.arange(np.shape(neuronMap)[1]):\n",
    "        for column in np.arange(np.shape(neuronMap)[2]):\n",
    "            layer = most_active(column, row, 0, t)\n",
    "            sudokuData[column, row] = layer+1\n",
    "            #sudokuActivity[column, row] = count(column, row, layer, 0, t)\n",
    "    violations.append(grid_constraint_violations(sudokuData))\n",
    "\n",
    "#print(np.asarray(sudokuActivity,dtype=np.uint16))"
   ]
  },
  {
   "cell_type": "markdown",
   "id": "a7fed4b1",
   "metadata": {},
   "source": [
    "Plot violations over time."
   ]
  },
  {
   "cell_type": "code",
   "execution_count": 22,
   "id": "3fa40ea8",
   "metadata": {},
   "outputs": [
    {
     "data": {
      "image/png": "[encoded data removed]",
      "text/plain": [
       "<Figure size 640x480 with 1 Axes>"
      ]
     },
     "metadata": {},
     "output_type": "display_data"
    }
   ],
   "source": [
    "import matplotlib.pyplot as plt\n",
    "\n",
    "plt.plot(timeFrame, violations)\n",
    "plt.show()"
   ]
  },
  {
   "cell_type": "markdown",
   "id": "5e2c1523",
   "metadata": {},
   "source": [
    "Print the grid at the end of the simulation."
   ]
  },
  {
   "cell_type": "code",
   "execution_count": 23,
   "id": "c7b63e5d",
   "metadata": {},
   "outputs": [
    {
     "name": "stdout",
     "output_type": "stream",
     "text": [
      "┌───┬───┬───┬───┬───┬───┬───┬───┬───┐\n",
      "│ 8 │ 5 │ 4 │ 3 │ 1 │ 7 │ 2 │ 6 │ 9 │\n",
      "├───┼───┼───┼───┼───┼───┼───┼───┼───┤\n",
      "│ 3 │ 6 │ 7 │ 2 │ 9 │ 8 │ 4 │ 5 │ 1 │\n",
      "├───┼───┼───┼───┼───┼───┼───┼───┼───┤\n",
      "│ 1 │ 9 │ 2 │ 4 │ 6 │ 5 │ 8 │ 7 │ 3 │\n",
      "├───┼───┼───┼───┼───┼───┼───┼───┼───┤\n",
      "│ 4 │ 7 │ 9 │ 6 │ 5 │ 3 │ 1 │ 2 │ 8 │\n",
      "├───┼───┼───┼───┼───┼───┼───┼───┼───┤\n",
      "│ 5 │ 2 │ 1 │ 8 │ 4 │ 9 │ 7 │ 3 │ 6 │\n",
      "├───┼───┼───┼───┼───┼───┼───┼───┼───┤\n",
      "│ 6 │ 8 │ 3 │ 1 │ 7 │ 2 │ 9 │ 4 │ 5 │\n",
      "├───┼───┼───┼───┼───┼───┼───┼───┼───┤\n",
      "│ 7 │ 3 │ 5 │ 9 │ 2 │ 1 │ 6 │ 8 │ 4 │\n",
      "├───┼───┼───┼───┼───┼───┼───┼───┼───┤\n",
      "│ 9 │ 4 │ 8 │ 7 │ 3 │ 6 │ 5 │ 1 │ 2 │\n",
      "├───┼───┼───┼───┼───┼───┼───┼───┼───┤\n",
      "│ 2 │ 1 │ 6 │ 5 │ 8 │ 4 │ 3 │ 9 │ 7 │\n",
      "└───┴───┴───┴───┴───┴───┴───┴───┴───┘ 0\n"
     ]
    }
   ],
   "source": [
    "print(grid_to_string(sudokuData), grid_constraint_violations(sudokuData))"
   ]
  },
  {
   "cell_type": "code",
   "execution_count": 24,
   "id": "c0bcb3d8",
   "metadata": {},
   "outputs": [
    {
     "name": "stdout",
     "output_type": "stream",
     "text": [
      "┌───┬───┬───┬───┬───┬───┬───┬───┬───┐\n",
      "│ 8 │ 5 │ 4 │ 3 │ 1 │ 7 │ 2 │ 6 │ 9 │\n",
      "├───┼───┼───┼───┼───┼───┼───┼───┼───┤\n",
      "│ 3 │ 6 │ 7 │ 2 │ 9 │ 8 │ 4 │ 5 │ 1 │\n",
      "├───┼───┼───┼───┼───┼───┼───┼───┼───┤\n",
      "│ 1 │ 9 │ 2 │ 4 │ 6 │ 5 │ 8 │ 7 │ 3 │\n",
      "├───┼───┼───┼───┼───┼───┼───┼───┼───┤\n",
      "│ 4 │ 7 │ 9 │ 6 │ 5 │ 3 │ 1 │ 2 │ 8 │\n",
      "├───┼───┼───┼───┼───┼───┼───┼───┼───┤\n",
      "│ 5 │ 2 │ 1 │ 8 │ 4 │ 9 │ 7 │ 3 │ 6 │\n",
      "├───┼───┼───┼───┼───┼───┼───┼───┼───┤\n",
      "│ 6 │ 8 │ 3 │ 1 │ 7 │ 2 │ 9 │ 4 │ 5 │\n",
      "├───┼───┼───┼───┼───┼───┼───┼───┼───┤\n",
      "│ 7 │ 3 │ 5 │ 9 │ 2 │ 1 │ 6 │ 8 │ 4 │\n",
      "├───┼───┼───┼───┼───┼───┼───┼───┼───┤\n",
      "│ 9 │ 4 │ 8 │ 7 │ 3 │ 6 │ 5 │ 1 │ 2 │\n",
      "├───┼───┼───┼───┼───┼───┼───┼───┼───┤\n",
      "│ 2 │ 1 │ 6 │ 5 │ 8 │ 4 │ 3 │ 9 │ 7 │\n",
      "└───┴───┴───┴───┴───┴───┴───┴───┴───┘ 0\n"
     ]
    }
   ],
   "source": [
    "print(grid_to_string(solution), grid_constraint_violations(solution))"
   ]
  },
  {
   "cell_type": "code",
   "execution_count": 25,
   "id": "aa6e9e18",
   "metadata": {},
   "outputs": [
    {
     "name": "stdout",
     "output_type": "stream",
     "text": [
      "Solved!\n"
     ]
    }
   ],
   "source": [
    "test = np.subtract(sudokuData,solution)\n",
    "if test.all() == 0:\n",
    "    print(\"Solved!\")"
   ]
  }
 ],
 "metadata": {
  "kernelspec": {
   "display_name": "Python 3.8.13 ('spinnaker')",
   "language": "python",
   "name": "python3"
  },
  "language_info": {
   "codemirror_mode": {
    "name": "ipython",
    "version": 3
   },
   "file_extension": ".py",
   "mimetype": "text/x-python",
   "name": "python",
   "nbconvert_exporter": "python",
   "pygments_lexer": "ipython3",
   "version": "3.8.13"
  },
  "vscode": {
   "interpreter": {
    "hash": "bf0b1731e57d350d48bbee0b19eaae04d6d88870f2a07282d8431d2dddebef28"
   }
  }
 },
 "nbformat": 4,
 "nbformat_minor": 5
}
